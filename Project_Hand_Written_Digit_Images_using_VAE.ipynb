{
  "cells": [
    {
      "cell_type": "markdown",
      "source": [
        "# Generate Handwritten digit images form MNIST Dataset using VAE\n",
        "The variational Auto-Encoder is a type of neural network\n",
        "that consists of two neural networks - encoder and a decoder\n",
        "where the encoder applies some transformations to map the\n",
        "input data into lower dimensions and the decoder tries to\n",
        "recreate the input from this data where both encoder and\n",
        "decoder have their own set of learning parameters.\n",
        "• Encoder - The encoder has encoding parameters θ, which\n",
        "maps the high dimensional input data into a low dimensional\n",
        "latent variable representation z through the\n",
        "probability distribution n pθ(z/x). It has its own weights\n",
        "and bias.\n",
        "• Decoder - The decoder has decoding parameters ϕ ,\n",
        "which map the low dimensional latent variable back to\n",
        "the high-dimensional feature space. It generates the new\n",
        "reconstructed data xˆ by p ϕ(x/z) and z.\n"
      ],
      "metadata": {
        "id": "maIGTRyjzqvm"
      }
    },
    {
      "cell_type": "markdown",
      "source": [
        "# Import the necessary libraries and load the data\n",
        "\n",
        "We import the necessary libraries:\n",
        "* **numpy** - the numerical computing library to provide mathematical operations on arrays \\\n",
        "* **keras** - high level neural network API for training the deep learning models \\\n",
        "* **tensorflow** - open-source library for mchine learning and deep learning \\\n",
        "\n",
        "\n",
        "**MNIST** is a well known dataset for handwritten digitd which we use to train our model to generate new handwritten digit images."
      ],
      "metadata": {
        "id": "Z8QpH1y3zz7s"
      }
    },
    {
      "cell_type": "code",
      "execution_count": null,
      "metadata": {
        "id": "YaoH4FdP8Nsi"
      },
      "outputs": [],
      "source": [
        "from keras.layers import Lambda, Input, Dense, Conv2D, Flatten, Conv2DTranspose, Reshape\n",
        "from keras.models import Model\n",
        "from keras.datasets import mnist\n",
        "from keras.losses import binary_crossentropy\n",
        "from keras import backend as K\n",
        "import numpy as np\n",
        "import matplotlib.pyplot as plt\n",
        "from keras import backend as K\n",
        "%matplotlib inline"
      ]
    },
    {
      "cell_type": "code",
      "execution_count": null,
      "metadata": {
        "colab": {
          "base_uri": "https://localhost:8080/"
        },
        "id": "TNVH0XohKw60",
        "outputId": "e66e6559-9754-4595-9c0f-53486bb67a73"
      },
      "outputs": [
        {
          "name": "stdout",
          "output_type": "stream",
          "text": [
            "Downloading data from https://storage.googleapis.com/tensorflow/tf-keras-datasets/mnist.npz\n",
            "11490434/11490434 [==============================] - 0s 0us/step\n"
          ]
        }
      ],
      "source": [
        "(x_train_data, y_train_data), (x_test_data, y_test_data) = mnist.load_data()"
      ]
    },
    {
      "cell_type": "code",
      "execution_count": null,
      "metadata": {
        "colab": {
          "base_uri": "https://localhost:8080/"
        },
        "id": "2nVEcUtwO2Tz",
        "outputId": "11c39d89-4ce7-49dd-cdab-6d017069d49b"
      },
      "outputs": [
        {
          "name": "stdout",
          "output_type": "stream",
          "text": [
            "(784,)\n"
          ]
        }
      ],
      "source": [
        "image_size = x_train_data.shape[1]\n",
        "original_dim = image_size * image_size\n",
        "\n",
        "x_train_data = np.reshape(x_train_data, [-1, original_dim])\n",
        "x_test_data = np.reshape(x_test_data, [-1, original_dim])\n",
        "\n",
        "x_train_data = x_train_data.astype('float32') / 255\n",
        "x_test_data = x_test_data.astype('float32') / 255\n",
        "\n",
        "input_shape = (original_dim, )\n",
        "batch_size = 128\n",
        "print(input_shape)"
      ]
    },
    {
      "cell_type": "code",
      "execution_count": null,
      "metadata": {
        "id": "Z8ijlf-qNQNK"
      },
      "outputs": [],
      "source": [
        "def latent_sampling(args):\n",
        "    z_mean_layer, z_log_var_layer = args\n",
        "    batch = K.shape(z_mean_layer)[0]\n",
        "    dimension = K.int_shape(z_mean_layer)[1]\n",
        "    ep = K.random_normal(shape=(batch, dimension))\n",
        "    return z_mean_layer + K.exp(0.5 * z_log_var_layer) * ep"
      ]
    },
    {
      "cell_type": "markdown",
      "source": [
        "## Encoder Network:\n",
        "In the Variational Autoencoder\n",
        "(VAE), the encoder network is responsible for mapping\n",
        "high-dimensional input data into a lower-dimensional latent\n",
        "space. This is achieved by using hidden layers that applies\n",
        "a nonlinear transformation to the input data to extract its\n",
        "underlying features. The output of the encoder is a set of\n",
        "parameters that define a Gaussian probability distribution in\n",
        "the latent space. These parameters represent the mean and\n",
        "variance of the distribution, and they are used to sample the\n",
        "latent space in a stochastic manner.\n",
        "To improve the performance of the encoder, we\n",
        "experimented with two different architectures: one that\n",
        "uses only ReLU hidden layers and another that uses a\n",
        "combination of Conv2D and ReLU layers. The Conv2D\n",
        "layers allow the encoder to capture spatial features in the\n",
        "input data, while the ReLU layers help to extract higherlevel\n",
        "features. By comparing the performance of these two\n",
        "architectures, we can determine which one is better suited for\n",
        "encoding MNIST images."
      ],
      "metadata": {
        "id": "BA_wZrHuz8gV"
      }
    },
    {
      "cell_type": "code",
      "execution_count": null,
      "metadata": {
        "colab": {
          "base_uri": "https://localhost:8080/"
        },
        "id": "eYOvXFWyOn7d",
        "outputId": "b3f57fb9-d64e-45d1-d958-b7d7e40ed2a4"
      },
      "outputs": [
        {
          "name": "stdout",
          "output_type": "stream",
          "text": [
            "Model: \"encoder\"\n",
            "__________________________________________________________________________________________________\n",
            " Layer (type)                   Output Shape         Param #     Connected to                     \n",
            "==================================================================================================\n",
            " input_encoder (InputLayer)     [(None, 784)]        0           []                               \n",
            "                                                                                                  \n",
            " dense (Dense)                  (None, 256)          200960      ['input_encoder[0][0]']          \n",
            "                                                                                                  \n",
            " z_mean (Dense)                 (None, 16)           4112        ['dense[0][0]']                  \n",
            "                                                                                                  \n",
            " z_log_var (Dense)              (None, 16)           4112        ['dense[0][0]']                  \n",
            "                                                                                                  \n",
            " z (Lambda)                     (None, 16)           0           ['z_mean[0][0]',                 \n",
            "                                                                  'z_log_var[0][0]']              \n",
            "                                                                                                  \n",
            "==================================================================================================\n",
            "Total params: 209,184\n",
            "Trainable params: 209,184\n",
            "Non-trainable params: 0\n",
            "__________________________________________________________________________________________________\n"
          ]
        }
      ],
      "source": [
        "from tensorflow.python.ops.gen_array_ops import shape\n",
        "hidden_node = 256\n",
        "latent_node = 16\n",
        "# img_shape = (28, 28, 1)\n",
        "\n",
        "# build encoder model\n",
        "# input layer\n",
        "encoder_inputs = Input(shape=input_shape, name='input_encoder')\n",
        "\n",
        "# # encoder architecture 1 - dense hidden layers\n",
        "encoder_hidden = Dense(hidden_node, activation='relu')(encoder_inputs)\n",
        "z_mean = Dense(latent_node, name='z_mean')(encoder_hidden)\n",
        "z_log_var = Dense(latent_node, name='z_log_var')(encoder_hidden)\n",
        "\n",
        "# # encoder architecture 2 -  adding conv2D layers\n",
        "# x = Reshape((28, 28, 1))(encoder_inputs)\n",
        "# x = Conv2D(32, 3, padding='same', activation='relu')(x)\n",
        "# x = Conv2D(64, 3, padding='same', activation='relu', strides=(2, 2))(x)\n",
        "# # x = Conv2D(64, 3, padding='same', activation='relu')(x)\n",
        "# # x = Conv2D(64, 3, padding='same', activation='relu')(x)\n",
        "# shape_before_flattening = K.int_shape(x)\n",
        "# x = Flatten()(x)\n",
        "# x = Dense(16, activation=\"relu\")(x)\n",
        "# z_mean = Dense(latent_node, name=\"z_mean\")(x)\n",
        "# z_log_var = Dense(latent_node, name=\"z_log_var\")(x)\n",
        "#----------------------------------------------\n",
        "\n",
        "\n",
        "# normalize log variance to std dev\n",
        "z = Lambda(latent_sampling, output_shape=(latent_node,), name='z')([z_mean, z_log_var])\n",
        "# instantiate encoder model\n",
        "encoder = Model(encoder_inputs, [z_mean, z_log_var, z], name=\"encoder\")\n",
        "encoder.summary()\n"
      ]
    },
    {
      "cell_type": "markdown",
      "source": [
        "## Decoder Network\n",
        "\n",
        "The decoder takes the encoded latent\n",
        "representation of a digit as input and reLu activation and\n",
        "sigmoid activation layers are added to the neural net for the\n",
        "model to be able to decode the samples.They produce the\n",
        "784 Bernoulli parameters, one for each of the 784 pixels\n",
        "in the image. However, as the decoder has access only to\n",
        "a summary of the information and not the entire data, it is\n",
        "not able to perfectly reconstruct the input of the encoder.\n",
        "The hidden layers allow the decoder to learn the underlying\n",
        "distribution of the input data and generate a new sample from\n",
        "that distribution, which is then used as the output. This process\n",
        "is based on the principle of maximum likelihood estimation,\n",
        "where the goal is to find the parameters of a distribution that\n",
        "maximize the likelihood of generating the observed data. By\n",
        "using the dense ReLU and sigmoid layers, we are able to\n",
        "achieve a relatively high degree of accuracy in reconstructing\n",
        "the input data, despite the loss of some information due to the\n",
        "summarization of the latent representation."
      ],
      "metadata": {
        "id": "P93scy6f0LXg"
      }
    },
    {
      "cell_type": "code",
      "execution_count": null,
      "metadata": {
        "colab": {
          "base_uri": "https://localhost:8080/"
        },
        "id": "D7_eAWU9PcUr",
        "outputId": "9ac43a7e-3f5a-4033-da67-d42cee3ca91f"
      },
      "outputs": [
        {
          "name": "stdout",
          "output_type": "stream",
          "text": [
            "Model: \"decoder\"\n",
            "_________________________________________________________________\n",
            " Layer (type)                Output Shape              Param #   \n",
            "=================================================================\n",
            " latent_sampling (InputLayer  [(None, 16)]             0         \n",
            " )                                                               \n",
            "                                                                 \n",
            " dense_1 (Dense)             (None, 1568)              26656     \n",
            "                                                                 \n",
            " reshape (Reshape)           (None, 7, 7, 32)          0         \n",
            "                                                                 \n",
            " conv2d_transpose (Conv2DTra  (None, 14, 14, 64)       18496     \n",
            " nspose)                                                         \n",
            "                                                                 \n",
            " conv2d_transpose_1 (Conv2DT  (None, 28, 28, 32)       18464     \n",
            " ranspose)                                                       \n",
            "                                                                 \n",
            " conv2d_transpose_2 (Conv2DT  (None, 28, 28, 1)        289       \n",
            " ranspose)                                                       \n",
            "                                                                 \n",
            " flatten (Flatten)           (None, 784)               0         \n",
            "                                                                 \n",
            " dense_2 (Dense)             (None, 784)               615440    \n",
            "                                                                 \n",
            "=================================================================\n",
            "Total params: 679,345\n",
            "Trainable params: 679,345\n",
            "Non-trainable params: 0\n",
            "_________________________________________________________________\n"
          ]
        }
      ],
      "source": [
        "# build decoder model\n",
        "latent_decoder_inputs = Input(shape=(latent_node,), name='latent_sampling')\n",
        "\n",
        "# decoder architecture 1 - dense hidden layers\n",
        "# decoder_hidden = Dense(hidden_node, activation='relu')(latent_decoder_inputs)\n",
        "# decoder_outputs = Dense(original_dim, activation='sigmoid')(decoder_hidden)\n",
        "\n",
        "# encoder architecture 2 - adding conv2DTranspose layers\n",
        "decoder_hidden = Dense(units=7*7*32, activation='relu')(latent_decoder_inputs)\n",
        "decoder_hidden = Reshape(target_shape=(7, 7, 32))(decoder_hidden)\n",
        "decoder_hidden = Conv2DTranspose(filters=64, kernel_size=3, strides=2, padding='same',activation='relu')(decoder_hidden)\n",
        "decoder_hidden = Conv2DTranspose(filters=32, kernel_size=3, strides=2, padding='same',activation='relu')(decoder_hidden)\n",
        "decoder_hidden = Conv2DTranspose(filters=1, kernel_size=3, strides=1, padding='same')(decoder_hidden)\n",
        "flatten_layer = Flatten()(decoder_hidden)\n",
        "decoder_outputs = Dense(original_dim, activation='sigmoid')(flatten_layer)\n",
        "#-------------\n",
        "\n",
        "# instantiate decoder model\n",
        "decoder = Model(latent_decoder_inputs, decoder_outputs, name='decoder')\n",
        "decoder.summary()"
      ]
    },
    {
      "cell_type": "markdown",
      "source": [
        "### instantiate VAE model\n",
        "\n",
        "The VAE is trained using maximum likelihood\n",
        "estimation (MLE) with an additional KL divergence\n",
        "regularization term. The training process involves minimizing\n",
        "the negative log-likelihood of the data under the model,\n",
        "which is equivalent to maximizing the evidence lower bound\n",
        "(ELBO) objective. The ELBO is defined as the sum of the\n",
        "reconstruction loss and the KL divergence between the learned\n",
        "latent distribution and the prior distribution. The crucial point\n",
        "of VAEs is to learn an encoder that can aggregate posterior\n",
        "distribution q(z) = ED[q(z/x)] close to the prior p(z). This\n",
        "is monitored by the loss function of the VAE. In VAE,\n",
        "the reconstruction error between the input data x and the\n",
        "encoded-decoded data d(e(x)) is represented as (d(e(x))). The\n",
        "dimensionality reduction problem here can be written as:\n",
        "(e∗, d∗) = argmin(e, d)inE ∗ D(d(e(x))) (1)\n",
        "This reconstruction error is back propagated to the network,\n",
        "after it is reparameterized."
      ],
      "metadata": {
        "id": "U0KzC4jU0ZdM"
      }
    },
    {
      "cell_type": "code",
      "execution_count": null,
      "metadata": {
        "colab": {
          "base_uri": "https://localhost:8080/"
        },
        "id": "nypSF5zrTkPj",
        "outputId": "482d795e-b409-4ea4-b701-eaccbf6c4610"
      },
      "outputs": [
        {
          "name": "stdout",
          "output_type": "stream",
          "text": [
            "Model: \"vae_mlp\"\n",
            "__________________________________________________________________________________________________\n",
            " Layer (type)                   Output Shape         Param #     Connected to                     \n",
            "==================================================================================================\n",
            " input_encoder (InputLayer)     [(None, 784)]        0           []                               \n",
            "                                                                                                  \n",
            " encoder (Functional)           [(None, 16),         209184      ['input_encoder[0][0]']          \n",
            "                                 (None, 16),                                                      \n",
            "                                 (None, 16)]                                                      \n",
            "                                                                                                  \n",
            " decoder (Functional)           (None, 784)          679345      ['encoder[0][2]']                \n",
            "                                                                                                  \n",
            " dense (Dense)                  (None, 256)          200960      ['input_encoder[0][0]']          \n",
            "                                                                                                  \n",
            " z_log_var (Dense)              (None, 16)           4112        ['dense[0][0]']                  \n",
            "                                                                                                  \n",
            " z_mean (Dense)                 (None, 16)           4112        ['dense[0][0]']                  \n",
            "                                                                                                  \n",
            " tf.__operators__.add (TFOpLamb  (None, 16)          0           ['z_log_var[0][0]']              \n",
            " da)                                                                                              \n",
            "                                                                                                  \n",
            " tf.math.square (TFOpLambda)    (None, 16)           0           ['z_mean[0][0]']                 \n",
            "                                                                                                  \n",
            " tf.cast (TFOpLambda)           (None, 784)          0           ['input_encoder[0][0]']          \n",
            "                                                                                                  \n",
            " tf.convert_to_tensor (TFOpLamb  (None, 784)         0           ['decoder[0][0]']                \n",
            " da)                                                                                              \n",
            "                                                                                                  \n",
            " tf.math.subtract (TFOpLambda)  (None, 16)           0           ['tf.__operators__.add[0][0]',   \n",
            "                                                                  'tf.math.square[0][0]']         \n",
            "                                                                                                  \n",
            " tf.math.exp (TFOpLambda)       (None, 16)           0           ['z_log_var[0][0]']              \n",
            "                                                                                                  \n",
            " tf.keras.backend.binary_crosse  (None, 784)         0           ['tf.cast[0][0]',                \n",
            " ntropy (TFOpLambda)                                              'tf.convert_to_tensor[0][0]']   \n",
            "                                                                                                  \n",
            " tf.math.subtract_1 (TFOpLambda  (None, 16)          0           ['tf.math.subtract[0][0]',       \n",
            " )                                                                'tf.math.exp[0][0]']            \n",
            "                                                                                                  \n",
            " tf.math.reduce_mean (TFOpLambd  (None,)             0           ['tf.keras.backend.binary_crossen\n",
            " a)                                                              tropy[0][0]']                    \n",
            "                                                                                                  \n",
            " tf.math.reduce_sum (TFOpLambda  (None,)             0           ['tf.math.subtract_1[0][0]']     \n",
            " )                                                                                                \n",
            "                                                                                                  \n",
            " tf.math.multiply (TFOpLambda)  (None,)              0           ['tf.math.reduce_mean[0][0]']    \n",
            "                                                                                                  \n",
            " tf.math.multiply_1 (TFOpLambda  (None,)             0           ['tf.math.reduce_sum[0][0]']     \n",
            " )                                                                                                \n",
            "                                                                                                  \n",
            " tf.__operators__.add_1 (TFOpLa  (None,)             0           ['tf.math.multiply[0][0]',       \n",
            " mbda)                                                            'tf.math.multiply_1[0][0]']     \n",
            "                                                                                                  \n",
            " tf.math.reduce_mean_1 (TFOpLam  ()                  0           ['tf.__operators__.add_1[0][0]'] \n",
            " bda)                                                                                             \n",
            "                                                                                                  \n",
            " add_loss (AddLoss)             ()                   0           ['tf.math.reduce_mean_1[0][0]']  \n",
            "                                                                                                  \n",
            "==================================================================================================\n",
            "Total params: 888,529\n",
            "Trainable params: 888,529\n",
            "Non-trainable params: 0\n",
            "__________________________________________________________________________________________________\n"
          ]
        }
      ],
      "source": [
        "# instantiate VAE model\n",
        "\n",
        "model_outputs = decoder(encoder(encoder_inputs)[2])\n",
        "vae = Model(encoder_inputs, model_outputs, name='vae_mlp')\n",
        "\n",
        "reconstruction_loss = binary_crossentropy(encoder_inputs, model_outputs)\n",
        "\n",
        "reconstruction_loss *= original_dim\n",
        "kl_loss = 1 + z_log_var - K.square(z_mean) - K.exp(z_log_var)\n",
        "kl_loss = K.sum(kl_loss, axis=-1)\n",
        "kl_loss *= -0.5\n",
        "vae_loss = K.mean(reconstruction_loss + kl_loss)\n",
        "vae.add_loss(vae_loss)\n",
        "vae.compile(optimizer='adam')\n",
        "vae.summary()"
      ]
    },
    {
      "cell_type": "code",
      "execution_count": null,
      "metadata": {
        "id": "FdsZY5pCRyT-"
      },
      "outputs": [],
      "source": [
        "def train_model(model):\n",
        "    trained_model = model.fit(x_train_data, epochs=epochs,\n",
        "                batch_size=batch_size,\n",
        "                validation_data=(x_test_data, None))\n",
        "    return trained_model"
      ]
    },
    {
      "cell_type": "code",
      "execution_count": null,
      "metadata": {
        "id": "9S_hEQB-RzqD"
      },
      "outputs": [],
      "source": [
        "def plot_latent_space(encoder):\n",
        "    z_test, _, _ = encoder.predict(x_test_data, batch_size=batch_size)\n",
        "    plt.figure(figsize=(12, 10))\n",
        "    plt.scatter(z_test[:, 0], z_test[:, 1], c=y_test_data)\n",
        "    plt.colorbar()\n",
        "    plt.xlabel(\"Z[0]\")\n",
        "    plt.ylabel(\"Z[1]\")\n",
        "    plt.savefig(\"VAE\")\n",
        "    plt.show()"
      ]
    },
    {
      "cell_type": "code",
      "execution_count": null,
      "metadata": {
        "id": "xcM0UkoIR5qJ"
      },
      "outputs": [],
      "source": [
        "def plot_vae_output(decoder,latent_dim):\n",
        "    n = 1\n",
        "    digit_num = 28\n",
        "    figure = np.zeros((digit_num * n, digit_num * n))\n",
        "    axis_x = np.linspace(-3, 3, n)\n",
        "    axis_y = np.linspace(-3, 3, n)[::-1]\n",
        "    for i, yi in enumerate(axis_y):\n",
        "        for j, xi in enumerate(axis_x):\n",
        "            if(latent_dim == 2):\n",
        "                latent_sample = np.array([[xi, yi]*int(latent_dim/2)])\n",
        "            else:\n",
        "                latent_sample = np.random.normal(0,1,size=[batch_size, latent_dim])\n",
        "            input_decoded = decoder.predict(latent_sample)\n",
        "\n",
        "            digit = input_decoded[0].reshape(digit_num, digit_num)\n",
        "            figure[i * digit_num: (i + 1) * digit_num,\n",
        "                   j * digit_num: (j + 1) * digit_num] = digit\n",
        "\n",
        "    plt.figure(figsize=(10, 8))\n",
        "    i_range = digit_num // 2\n",
        "    j_range = (n - 1) * digit_num + i_range + 1\n",
        "    pixel_range = np.arange(i_range, j_range, digit_num)\n",
        "    sample_range_x = np.round(axis_x, 1)\n",
        "    sample_range_y = np.round(axis_y, 1)\n",
        "    plt.xticks(pixel_range, sample_range_x)\n",
        "    plt.yticks(pixel_range, sample_range_y)\n",
        "    plt.imshow(figure, cmap='gray')\n",
        "    plt.savefig(\"VAE_Output\")\n",
        "    plt.show()"
      ]
    },
    {
      "cell_type": "markdown",
      "source": [
        "Train the model and plot the results."
      ],
      "metadata": {
        "id": "3lZh3jml4kGw"
      }
    },
    {
      "cell_type": "code",
      "execution_count": null,
      "metadata": {
        "colab": {
          "background_save": true,
          "base_uri": "https://localhost:8080/"
        },
        "id": "rTw_pgvCSNNR",
        "outputId": "cdef2428-ad6f-4323-dcc9-18080d82b02d"
      },
      "outputs": [
        {
          "name": "stdout",
          "output_type": "stream",
          "text": [
            "Epoch 1/500\n",
            "469/469 [==============================] - 115s 240ms/step - loss: 179.9852 - val_loss: 134.0219\n",
            "Epoch 2/500\n",
            "469/469 [==============================] - 111s 237ms/step - loss: 122.7176 - val_loss: 115.1915\n",
            "Epoch 3/500\n",
            "469/469 [==============================] - 109s 233ms/step - loss: 113.5444 - val_loss: 110.4667\n",
            "Epoch 4/500\n",
            "469/469 [==============================] - 117s 250ms/step - loss: 110.1329 - val_loss: 108.3895\n",
            "Epoch 5/500\n",
            "469/469 [==============================] - 109s 233ms/step - loss: 108.3438 - val_loss: 106.5858\n",
            "Epoch 6/500\n",
            "469/469 [==============================] - 110s 234ms/step - loss: 107.0303 - val_loss: 105.7444\n",
            "Epoch 7/500\n",
            "469/469 [==============================] - 111s 237ms/step - loss: 106.0607 - val_loss: 105.1544\n",
            "Epoch 8/500\n",
            "469/469 [==============================] - 110s 234ms/step - loss: 105.2999 - val_loss: 104.7648\n",
            "Epoch 9/500\n",
            "469/469 [==============================] - 106s 226ms/step - loss: 104.6146 - val_loss: 104.0237\n",
            "Epoch 10/500\n",
            "469/469 [==============================] - 105s 223ms/step - loss: 104.0764 - val_loss: 103.5843\n",
            "Epoch 11/500\n",
            "469/469 [==============================] - 104s 221ms/step - loss: 103.5511 - val_loss: 103.0696\n",
            "Epoch 12/500\n",
            "469/469 [==============================] - 98s 209ms/step - loss: 103.0166 - val_loss: 102.6032\n",
            "Epoch 13/500\n",
            "469/469 [==============================] - 99s 211ms/step - loss: 102.5919 - val_loss: 102.2897\n",
            "Epoch 14/500\n",
            "469/469 [==============================] - 97s 207ms/step - loss: 102.2131 - val_loss: 101.8908\n",
            "Epoch 15/500\n",
            "469/469 [==============================] - 103s 220ms/step - loss: 101.8508 - val_loss: 101.7790\n",
            "Epoch 16/500\n",
            "469/469 [==============================] - 104s 221ms/step - loss: 101.5228 - val_loss: 101.4280\n",
            "Epoch 17/500\n",
            "469/469 [==============================] - 99s 211ms/step - loss: 101.2616 - val_loss: 101.1865\n",
            "Epoch 18/500\n",
            "469/469 [==============================] - 100s 213ms/step - loss: 100.9755 - val_loss: 100.9889\n",
            "Epoch 19/500\n",
            "469/469 [==============================] - 100s 214ms/step - loss: 100.7174 - val_loss: 100.7847\n",
            "Epoch 20/500\n",
            "469/469 [==============================] - 97s 208ms/step - loss: 100.4458 - val_loss: 100.7108\n",
            "Epoch 21/500\n",
            "469/469 [==============================] - 101s 215ms/step - loss: 100.2393 - val_loss: 100.7604\n",
            "Epoch 22/500\n",
            "469/469 [==============================] - 99s 210ms/step - loss: 100.0581 - val_loss: 100.4150\n",
            "Epoch 23/500\n",
            "469/469 [==============================] - 101s 215ms/step - loss: 99.9424 - val_loss: 100.3381\n",
            "Epoch 24/500\n",
            "469/469 [==============================] - 100s 213ms/step - loss: 99.7305 - val_loss: 100.0782\n",
            "Epoch 25/500\n",
            "469/469 [==============================] - 101s 216ms/step - loss: 99.5960 - val_loss: 100.0389\n",
            "Epoch 26/500\n",
            "469/469 [==============================] - 94s 202ms/step - loss: 99.4308 - val_loss: 99.8924\n",
            "Epoch 27/500\n",
            "469/469 [==============================] - 95s 203ms/step - loss: 99.3416 - val_loss: 99.9604\n",
            "Epoch 28/500\n",
            "469/469 [==============================] - 95s 203ms/step - loss: 99.1702 - val_loss: 99.8561\n",
            "Epoch 29/500\n",
            "469/469 [==============================] - 95s 203ms/step - loss: 99.0708 - val_loss: 99.7794\n",
            "Epoch 30/500\n",
            "469/469 [==============================] - 95s 203ms/step - loss: 98.9192 - val_loss: 99.7037\n",
            "Epoch 31/500\n",
            "469/469 [==============================] - 95s 203ms/step - loss: 98.8468 - val_loss: 99.6784\n",
            "Epoch 32/500\n",
            "469/469 [==============================] - 95s 202ms/step - loss: 98.7496 - val_loss: 99.4938\n",
            "Epoch 33/500\n",
            "469/469 [==============================] - 99s 212ms/step - loss: 98.6253 - val_loss: 99.3734\n",
            "Epoch 34/500\n",
            "469/469 [==============================] - 97s 207ms/step - loss: 98.5561 - val_loss: 99.3429\n",
            "Epoch 35/500\n",
            "469/469 [==============================] - 99s 212ms/step - loss: 98.4827 - val_loss: 99.3867\n",
            "Epoch 36/500\n",
            "469/469 [==============================] - 100s 214ms/step - loss: 98.3824 - val_loss: 99.3486\n",
            "Epoch 37/500\n",
            "469/469 [==============================] - 96s 204ms/step - loss: 98.2844 - val_loss: 99.2427\n",
            "Epoch 38/500\n",
            "469/469 [==============================] - 95s 203ms/step - loss: 98.2280 - val_loss: 99.1260\n",
            "Epoch 39/500\n",
            "469/469 [==============================] - 96s 204ms/step - loss: 98.1313 - val_loss: 99.1083\n",
            "Epoch 40/500\n",
            "469/469 [==============================] - 96s 204ms/step - loss: 98.1039 - val_loss: 99.0494\n",
            "Epoch 41/500\n",
            "469/469 [==============================] - 101s 215ms/step - loss: 98.0517 - val_loss: 99.0538\n",
            "Epoch 42/500\n",
            "469/469 [==============================] - 100s 214ms/step - loss: 97.9574 - val_loss: 99.1626\n",
            "Epoch 43/500\n",
            "469/469 [==============================] - 96s 204ms/step - loss: 97.8665 - val_loss: 99.0966\n",
            "Epoch 44/500\n",
            "469/469 [==============================] - 96s 205ms/step - loss: 97.7988 - val_loss: 99.2548\n",
            "Epoch 45/500\n",
            "469/469 [==============================] - 98s 209ms/step - loss: 97.7975 - val_loss: 98.9093\n",
            "Epoch 46/500\n",
            "469/469 [==============================] - 99s 212ms/step - loss: 97.7629 - val_loss: 98.8113\n",
            "Epoch 47/500\n",
            "469/469 [==============================] - 96s 204ms/step - loss: 97.6471 - val_loss: 98.8733\n",
            "Epoch 48/500\n",
            "469/469 [==============================] - 97s 206ms/step - loss: 97.5942 - val_loss: 98.7781\n",
            "Epoch 49/500\n",
            "469/469 [==============================] - 102s 217ms/step - loss: 97.5659 - val_loss: 98.8297\n",
            "Epoch 50/500\n",
            "469/469 [==============================] - 100s 214ms/step - loss: 97.5349 - val_loss: 98.8202\n",
            "Epoch 51/500\n",
            "469/469 [==============================] - 96s 206ms/step - loss: 97.5192 - val_loss: 98.7916\n",
            "Epoch 52/500\n",
            "469/469 [==============================] - 101s 215ms/step - loss: 97.4356 - val_loss: 98.8622\n",
            "Epoch 53/500\n",
            "469/469 [==============================] - 107s 229ms/step - loss: 97.4060 - val_loss: 99.0180\n",
            "Epoch 54/500\n",
            "469/469 [==============================] - 98s 208ms/step - loss: 97.3569 - val_loss: 98.8242\n",
            "Epoch 55/500\n",
            "469/469 [==============================] - 96s 205ms/step - loss: 97.3185 - val_loss: 98.7970\n",
            "Epoch 56/500\n",
            "469/469 [==============================] - 100s 214ms/step - loss: 97.3205 - val_loss: 98.7361\n",
            "Epoch 57/500\n",
            "469/469 [==============================] - 97s 206ms/step - loss: 97.2329 - val_loss: 98.7509\n",
            "Epoch 58/500\n",
            "469/469 [==============================] - 97s 206ms/step - loss: 97.2175 - val_loss: 98.7729\n",
            "Epoch 59/500\n",
            "469/469 [==============================] - 96s 205ms/step - loss: 97.1738 - val_loss: 98.9058\n",
            "Epoch 60/500\n",
            "469/469 [==============================] - 96s 204ms/step - loss: 97.1251 - val_loss: 98.9779\n",
            "Epoch 61/500\n",
            "469/469 [==============================] - 94s 201ms/step - loss: 97.1452 - val_loss: 98.5515\n",
            "Epoch 62/500\n",
            "469/469 [==============================] - 97s 207ms/step - loss: 97.0607 - val_loss: 98.6684\n",
            "Epoch 63/500\n",
            "469/469 [==============================] - 95s 203ms/step - loss: 97.0676 - val_loss: 98.3787\n",
            "Epoch 64/500\n",
            "469/469 [==============================] - 94s 201ms/step - loss: 96.9936 - val_loss: 98.6198\n",
            "Epoch 65/500\n",
            "469/469 [==============================] - 95s 202ms/step - loss: 96.9409 - val_loss: 98.4484\n",
            "Epoch 66/500\n",
            "469/469 [==============================] - 93s 198ms/step - loss: 96.9258 - val_loss: 98.5042\n",
            "Epoch 67/500\n",
            "469/469 [==============================] - 96s 206ms/step - loss: 96.8686 - val_loss: 98.5222\n",
            "Epoch 68/500\n",
            "469/469 [==============================] - 99s 212ms/step - loss: 96.8530 - val_loss: 98.5823\n",
            "Epoch 69/500\n",
            "469/469 [==============================] - 100s 214ms/step - loss: 96.8300 - val_loss: 98.4014\n",
            "Epoch 70/500\n",
            "469/469 [==============================] - 103s 219ms/step - loss: 96.8434 - val_loss: 98.4378\n",
            "Epoch 71/500\n",
            "469/469 [==============================] - 101s 216ms/step - loss: 96.7858 - val_loss: 98.5671\n",
            "Epoch 72/500\n",
            "469/469 [==============================] - 100s 213ms/step - loss: 96.7633 - val_loss: 98.3338\n",
            "Epoch 73/500\n",
            " 84/469 [====>.........................] - ETA: 1:19 - loss: 96.3628"
          ]
        }
      ],
      "source": [
        "epochs = 500\n",
        "trained_model = train_model(vae)\n",
        "plot_latent_space(encoder)\n",
        "plot_vae_output(decoder, latent_node)"
      ]
    },
    {
      "cell_type": "code",
      "execution_count": null,
      "metadata": {
        "colab": {
          "base_uri": "https://localhost:8080/",
          "height": 1000
        },
        "id": "9xUkCP8_XYcP",
        "outputId": "ac74982a-1f4b-4cfd-8256-6eccee3c7e6d"
      },
      "outputs": [
        {
          "name": "stdout",
          "output_type": "stream",
          "text": [
            "4/4 [==============================] - 0s 2ms/step\n"
          ]
        },
        {
          "data": {
            "image/png": "[encoded data removed]",
            "text/plain": [
              "<Figure size 1000x800 with 1 Axes>"
            ]
          },
          "metadata": {},
          "output_type": "display_data"
        },
        {
          "name": "stdout",
          "output_type": "stream",
          "text": [
            "4/4 [==============================] - 0s 3ms/step\n"
          ]
        },
        {
          "data": {
            "image/png": "[encoded data removed]",
            "text/plain": [
              "<Figure size 1000x800 with 1 Axes>"
            ]
          },
          "metadata": {},
          "output_type": "display_data"
        },
        {
          "name": "stdout",
          "output_type": "stream",
          "text": [
            "4/4 [==============================] - 0s 3ms/step\n"
          ]
        },
        {
          "data": {
            "image/png": "[encoded data removed]",
            "text/plain": [
              "<Figure size 1000x800 with 1 Axes>"
            ]
          },
          "metadata": {},
          "output_type": "display_data"
        },
        {
          "name": "stdout",
          "output_type": "stream",
          "text": [
            "4/4 [==============================] - 0s 3ms/step\n"
          ]
        },
        {
          "data": {
            "image/png": "[encoded data removed]",
            "text/plain": [
              "<Figure size 1000x800 with 1 Axes>"
            ]
          },
          "metadata": {},
          "output_type": "display_data"
        },
        {
          "name": "stdout",
          "output_type": "stream",
          "text": [
            "4/4 [==============================] - 0s 3ms/step\n"
          ]
        },
        {
          "data": {
            "image/png": "[encoded data removed]",
            "text/plain": [
              "<Figure size 1000x800 with 1 Axes>"
            ]
          },
          "metadata": {},
          "output_type": "display_data"
        },
        {
          "name": "stdout",
          "output_type": "stream",
          "text": [
            "4/4 [==============================] - 0s 6ms/step\n"
          ]
        },
        {
          "data": {
            "image/png": "[encoded data removed]",
            "text/plain": [
              "<Figure size 1000x800 with 1 Axes>"
            ]
          },
          "metadata": {},
          "output_type": "display_data"
        },
        {
          "name": "stdout",
          "output_type": "stream",
          "text": [
            "4/4 [==============================] - 0s 3ms/step\n"
          ]
        },
        {
          "data": {
            "image/png": "[encoded data removed]",
            "text/plain": [
              "<Figure size 1000x800 with 1 Axes>"
            ]
          },
          "metadata": {},
          "output_type": "display_data"
        }
      ],
      "source": [
        "plt.plot(trained_model.history['loss'], label='Training Loss')\n",
        "plt.plot(trained_model.history['val_loss'], label='Validation Loss')\n",
        "plt.xlabel('Epoch')\n",
        "plt.ylabel('Loss')\n",
        "plt.legend()\n",
        "plt.show()"
      ]
    }
  ],
  "metadata": {
    "accelerator": "TPU",
    "colab": {
      "provenance": []
    },
    "gpuClass": "standard",
    "kernelspec": {
      "display_name": "Python 3",
      "name": "python3"
    },
    "language_info": {
      "name": "python"
    }
  },
  "nbformat": 4,
  "nbformat_minor": 0
}